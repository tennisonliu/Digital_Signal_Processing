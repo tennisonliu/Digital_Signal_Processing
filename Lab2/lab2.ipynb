{
 "cells": [
  {
   "cell_type": "markdown",
   "metadata": {},
   "source": [
    "## ELEC3305 Lab 2 -  DTFT <br> <small> Python Lab 2 </small>"
   ]
  },
  {
   "cell_type": "markdown",
   "metadata": {},
   "source": [
    "### DTFT:"
   ]
  },
  {
   "cell_type": "markdown",
   "metadata": {},
   "source": [
    "In this part of the lab, we will look at the DTFT of rectangular windows and triangular windows and compare their performances as low-pass filters. There is a code template provided for each part to help you become familiar with numpy syntax."
   ]
  },
  {
   "cell_type": "markdown",
   "metadata": {},
   "source": [
    "### Part (a):"
   ]
  },
  {
   "cell_type": "code",
   "execution_count": 2,
   "metadata": {
    "collapsed": true
   },
   "outputs": [],
   "source": [
    "#Import libraries\n",
    "from __future__ import division\n",
    "import numpy as np\n",
    "import matplotlib.pyplot as plt\n",
    "%matplotlib inline"
   ]
  },
  {
   "cell_type": "markdown",
   "metadata": {},
   "source": [
    "Plot the DTFT (at least 512 points) of the rectangular window:\n",
    "\n",
    "<center>$$ w[n] = \\left \\{ \\begin{array}{cc} 1 & -N \\leq n \\leq N \\\\ 0 & \\mathrm{otherwise} \\end{array} \\right. $$ </center>\n",
    "\t\t\t\t\n",
    "for $ N=5,~20,~100$. Scale the DTFT so that $W(e^{j0})=1$ in your plots. Label your plots! \n",
    "\n",
    "Describe the effect of increasing $N$ on the DTFT.\n",
    "\n",
    "A code template is provided for each part"
   ]
  },
  {
   "cell_type": "markdown",
   "metadata": {},
   "source": [
    "### Solution for (a):"
   ]
  },
  {
   "cell_type": "code",
   "execution_count": 3,
   "metadata": {},
   "outputs": [
    {
     "ename": "IndentationError",
     "evalue": "expected an indented block (<ipython-input-3-1a5a6862ea9f>, line 37)",
     "output_type": "error",
     "traceback": [
      "\u001b[0;36m  File \u001b[0;32m\"<ipython-input-3-1a5a6862ea9f>\"\u001b[0;36m, line \u001b[0;32m37\u001b[0m\n\u001b[0;31m    \u001b[0m\n\u001b[0m    ^\u001b[0m\n\u001b[0;31mIndentationError\u001b[0m\u001b[0;31m:\u001b[0m expected an indented block\n"
     ]
    }
   ],
   "source": [
    "    M = 1024 \n",
    "    #repeat for N = 5, 20, 100\n",
    "    for N in [5, 20, 100]:  \n",
    "    \n",
    "        # create 2N+1-point temporal indices (NN) from -N to N using np.r_\n",
    "        ### FILL IN ###\n",
    "        \n",
    "\n",
    "        # create rectangular window function (w[n]) using np.ones\n",
    "        ### FILL IN ###\n",
    "        \n",
    "        \n",
    "        # create M-point frequency indices (Omega) from -pi to pi (use np.pi and np.linspace)\n",
    "        ### FILL IN ###\n",
    "        \n",
    "        \n",
    "        # create matrix of appropriate temporal indices (n) and frequency indices (omega) using np.outer\n",
    "        ### FILL IN ###\n",
    "        \n",
    "        \n",
    "        # create DTFT matrix using np.exp\n",
    "        ### FILL IN ###\n",
    "        \n",
    "        \n",
    "        # evaluate DTFT using np.dot function\n",
    "        ### FILL IN ###\n",
    "        \n",
    "         \n",
    "        # normalize W such that W at omega=0 is 1 (use np.divide and np.amax)\n",
    "        ### FILL IN ###\n",
    "        \n",
    "        \n",
    "        # create plots\n",
    "        # plot both real and imag on the same figure using subplots ( use W.real and W.imag )\n",
    "        # label plots and put title and legends ( use plt.xlabel, plt.title, plt.legend )\n",
    "        ### FILL IN ###\n",
    "\n",
    "        \n",
    "        "
   ]
  },
  {
   "cell_type": "markdown",
   "metadata": {},
   "source": [
    "Describe the effect of increasing $N$ on the DTFT:\n",
    "\n",
    "\n",
    "\n",
    "----"
   ]
  },
  {
   "cell_type": "markdown",
   "metadata": {},
   "source": [
    "### Part (b):"
   ]
  },
  {
   "cell_type": "markdown",
   "metadata": {},
   "source": [
    "Repeat part (a) for the triangular window:\n",
    "$$w_\\triangle [n] =  \\left ( 1- \\frac{|n|}{N} \\right ) w[n].$$"
   ]
  },
  {
   "cell_type": "markdown",
   "metadata": {},
   "source": [
    "### Solution for (b):"
   ]
  },
  {
   "cell_type": "code",
   "execution_count": null,
   "metadata": {},
   "outputs": [],
   "source": [
    "    M = 1024\n",
    "    #repeat for N = 5, 20, 100\n",
    "    for N in [5, 20, 100]:  \n",
    "    \n",
    "        # create 2N+1-point temporal indices (NN) from -N to N using np.r_\n",
    "        ### FILL IN ###\n",
    "        \n",
    "        \n",
    "        # create window function (w) \n",
    "        ### FILL IN ###\n",
    "        \n",
    "        \n",
    "        # create M-point frequency indices (Omega) from -pi to pi (use np.pi and np.linspace)\n",
    "        ### FILL IN ###\n",
    "        \n",
    "        \n",
    "        # create matrix of appropriate temporal indices (n) and frequency indices (omega) using np.outer\n",
    "        ### FILL IN ###\n",
    "       \n",
    "        \n",
    "        # create DTFT matrix using np.exp\n",
    "        ### FILL IN ###\n",
    "        \n",
    "        \n",
    "        # evaluate DTFT using np.dot function\n",
    "        ### FILL IN ###\n",
    "        \n",
    "         \n",
    "        # normalize W such that W at omega=0 is 1 (use np.divide and np.amax)\n",
    "        ### FILL IN ###\n",
    "        \n",
    "        \n",
    "        # create plots\n",
    "        # plot both real and imag on the same figure using subplots (use W.real and W.imag )\n",
    "        # label plots and put title and legends ( use plt.xlabel, plt.title, plt.legend )\n",
    "        ### FILL IN ###\n",
    "      \n",
    "\n",
    "        "
   ]
  },
  {
   "cell_type": "markdown",
   "metadata": {},
   "source": [
    "Describe the effect of increasing $N$ on the DTFT:\n",
    "\n",
    "\n",
    "----"
   ]
  },
  {
   "cell_type": "markdown",
   "metadata": {},
   "source": [
    "### Part (c):"
   ]
  },
  {
   "cell_type": "markdown",
   "metadata": {},
   "source": [
    "Consider the ideal low-pass filter with cut-off frequency $\\omega_c = 0.3 \\pi$. Truncate the impulse response of this filter using the windows in parts (a) and (b), and plot the frequency response of the resulting filters. Explain the differences.\n"
   ]
  },
  {
   "cell_type": "markdown",
   "metadata": {},
   "source": [
    "### Solution for (c):"
   ]
  },
  {
   "cell_type": "code",
   "execution_count": null,
   "metadata": {},
   "outputs": [],
   "source": [
    "    # using the window function in part(b)\n",
    "    M = 1024\n",
    "    Omegac = 0.3\n",
    "    #repeat for N = 5, 20, 100\n",
    "    for N in [5, 20, 100]:  \n",
    "    \n",
    "        # create 2N+1-point temporal indices (NN) from -N to N using np.r_\n",
    "        ### FILL IN ###\n",
    "        \n",
    "        \n",
    "        # create new window function (w) (i.e. the product of the truncated low-pass filter and the window in part (a))\n",
    "        ### FILL IN ###\n",
    "\n",
    "  \n",
    "        # create M-point frequency indices (Omega) from -pi to pi (use np.pi and np.linspace)\n",
    "        ### FILL IN ###\n",
    "        \n",
    "        \n",
    "        # create matrix of appropriate temporal indices (n) and frequency indices (omega) using np.outer\n",
    "        ### FILL IN ###\n",
    "        \n",
    "        \n",
    "        # create DTFT matrix using np.exp\n",
    "        ### FILL IN ###\n",
    "        \n",
    "        \n",
    "        # evaluate DTFT using np.dot function\n",
    "        ### FILL IN ###\n",
    "        \n",
    "         \n",
    "        # normalize W such that W at omega=0 is 1 (use np.divide and np.amax)\n",
    "        ### FILL IN ###\n",
    "        \n",
    "        \n",
    "        # create plots\n",
    "        # plot both real and imag on the same figure ( use W.real and W.imag )\n",
    "        # label plots and put title and legends ( use plt.xlabel, plt.title, plt.legend )\n",
    "        ### FILL IN ###\n",
    " \n",
    "\n",
    "        "
   ]
  },
  {
   "cell_type": "code",
   "execution_count": null,
   "metadata": {},
   "outputs": [],
   "source": [
    "    # using the window function in part(b)\n",
    "    M = 1024\n",
    "    Omegac = 0.3\n",
    "    #repeat for N = 5, 20, 100\n",
    "    for N in [5, 20, 100]:  \n",
    "    \n",
    "        # create 2N+1-point temporal indices (NN) from -N to N using np.r_\n",
    "        ### FILL IN ###\n",
    "        \n",
    "        \n",
    "        # create new window function (w) (i.e. the product of the truncated low-pass filter and the window in part (b))\n",
    "        ### FILL IN ###\n",
    "\n",
    "  \n",
    "        # create M-point frequency indices (Omega) from -pi to pi (use np.pi and np.linspace)\n",
    "        ### FILL IN ###\n",
    "        \n",
    "        \n",
    "        # create matrix of appropriate temporal indices (n) and frequency indices (omega) using np.outer\n",
    "        ### FILL IN ###\n",
    "        \n",
    "        \n",
    "        # create DTFT matrix using np.exp\n",
    "        ### FILL IN ###\n",
    "        \n",
    "        \n",
    "        # evaluate DTFT using np.dot function\n",
    "        ### FILL IN ###\n",
    "         \n",
    "            \n",
    "        # normalize W such that W at omega=0 is 1 (use np.divide and np.amax)\n",
    "        ### FILL IN ###\n",
    "        \n",
    "        \n",
    "        # create plots\n",
    "        # plot both real and imag on the same figure (use W.real and W.imag)\n",
    "        # label plots and put title and legends ( use plt.xlabel, plt.title, plt.legend )\n",
    "        ### FILL IN ###\n",
    "        \n",
    "        "
   ]
  },
  {
   "cell_type": "markdown",
   "metadata": {},
   "source": [
    "Explain the difference of low-passs filter using rectangular window and triangular window:\n",
    "\n",
    "----"
   ]
  }
 ],
 "metadata": {
  "kernelspec": {
   "display_name": "Python 3",
   "language": "python",
   "name": "python3"
  },
  "language_info": {
   "codemirror_mode": {
    "name": "ipython",
    "version": 3
   },
   "file_extension": ".py",
   "mimetype": "text/x-python",
   "name": "python",
   "nbconvert_exporter": "python",
   "pygments_lexer": "ipython3",
   "version": "3.7.1"
  }
 },
 "nbformat": 4,
 "nbformat_minor": 1
}
